{
  "nbformat": 4,
  "nbformat_minor": 5,
  "metadata": {
    "kernelspec": {
      "display_name": "Python 3",
      "language": "python",
      "name": "python3"
    },
    "language_info": {
      "codemirror_mode": {
        "name": "ipython",
        "version": 3
      },
      "file_extension": ".py",
      "mimetype": "text/x-python",
      "name": "python",
      "nbconvert_exporter": "python",
      "pygments_lexer": "ipython3",
      "version": "3.8.8"
    },
    "colab": {
      "name": "MNIST digit classification using CNN.ipynb",
      "provenance": [],
      "collapsed_sections": [],
      "include_colab_link": true
    }
  },
  "cells": [
    {
      "cell_type": "markdown",
      "metadata": {
        "id": "view-in-github",
        "colab_type": "text"
      },
      "source": [
        "<a href=\"https://colab.research.google.com/github/ayakurtam/Aya-Kurtam/blob/master/MNIST_digit_classification_using_CNN.ipynb\" target=\"_parent\"><img src=\"https://colab.research.google.com/assets/colab-badge.svg\" alt=\"Open In Colab\"/></a>"
      ]
    },
    {
      "cell_type": "code",
      "metadata": {
        "id": "af35ddd0"
      },
      "source": [
        "import keras\n",
        "from keras.datasets import mnist"
      ],
      "id": "af35ddd0",
      "execution_count": 2,
      "outputs": []
    },
    {
      "cell_type": "markdown",
      "metadata": {
        "id": "c4ab3fca"
      },
      "source": [
        "# Loading - \"MNIST Data Set \"\n",
        "\n",
        "### Containing Training samples = 60,000  ,Testing Samples =10,000.\n",
        "\n",
        "### Divide into train and test dataset"
      ],
      "id": "c4ab3fca"
    },
    {
      "cell_type": "code",
      "metadata": {
        "id": "69a8079e"
      },
      "source": [
        "(x_train, y_train), (x_test, y_test) = keras.datasets.mnist.load_data()\n"
      ],
      "id": "69a8079e",
      "execution_count": 4,
      "outputs": []
    },
    {
      "cell_type": "code",
      "metadata": {
        "colab": {
          "base_uri": "https://localhost:8080/"
        },
        "id": "20bd6b3d",
        "outputId": "8a2f64a4-9810-466e-ca5a-3fcbe1ad0b55"
      },
      "source": [
        "x_train.shape"
      ],
      "id": "20bd6b3d",
      "execution_count": 5,
      "outputs": [
        {
          "output_type": "execute_result",
          "data": {
            "text/plain": [
              "(60000, 28, 28)"
            ]
          },
          "metadata": {
            "tags": []
          },
          "execution_count": 5
        }
      ]
    },
    {
      "cell_type": "code",
      "metadata": {
        "colab": {
          "base_uri": "https://localhost:8080/"
        },
        "id": "e0366831",
        "outputId": "a4137ec3-d1e4-4788-bcd2-eaa2bdb460dd"
      },
      "source": [
        "x_test.shape"
      ],
      "id": "e0366831",
      "execution_count": 6,
      "outputs": [
        {
          "output_type": "execute_result",
          "data": {
            "text/plain": [
              "(10000, 28, 28)"
            ]
          },
          "metadata": {
            "tags": []
          },
          "execution_count": 6
        }
      ]
    },
    {
      "cell_type": "code",
      "metadata": {
        "colab": {
          "base_uri": "https://localhost:8080/",
          "height": 268
        },
        "id": "8be47272",
        "outputId": "9c32c58a-e83a-42de-da61-0584635c0545"
      },
      "source": [
        "## just check the graph, how data looks like\n",
        "import matplotlib.pyplot as plt\n",
        "\n",
        "# plot 4 images as gray scale\n",
        "plt.subplot(221)\n",
        "plt.imshow(x_train[0], cmap=plt.get_cmap('gray'))\n",
        "plt.subplot(222)\n",
        "plt.imshow(x_train[1], cmap=plt.get_cmap('gray'))\n",
        "plt.subplot(223)\n",
        "plt.imshow(x_train[2], cmap=plt.get_cmap('gray'))\n",
        "plt.subplot(224)\n",
        "plt.imshow(x_train[3], cmap=plt.get_cmap('gray'))\n",
        "# show the plot\n",
        "plt.show()\n",
        "## in order to execute the graph\n",
        "## however we dont know whether its colored image or binary images\n",
        "## so inorder to plot it change the configuration"
      ],
      "id": "8be47272",
      "execution_count": 7,
      "outputs": [
        {
          "output_type": "display_data",
          "data": {
            "image/png": "[encoded data removed]",
            "text/plain": [
              "<Figure size 432x288 with 4 Axes>"
            ]
          },
          "metadata": {
            "tags": [],
            "needs_background": "light"
          }
        }
      ]
    },
    {
      "cell_type": "markdown",
      "metadata": {
        "id": "53c3c573"
      },
      "source": [
        "## Checking the values of each pixel \n",
        "### before Normalization"
      ],
      "id": "53c3c573"
    },
    {
      "cell_type": "code",
      "metadata": {
        "colab": {
          "base_uri": "https://localhost:8080/"
        },
        "id": "81c33939",
        "outputId": "911746d0-8fa9-489b-e29f-dc2fb0079b4f"
      },
      "source": [
        "print(x_train[0])"
      ],
      "id": "81c33939",
      "execution_count": 8,
      "outputs": [
        {
          "output_type": "stream",
          "text": [
            "[[  0   0   0   0   0   0   0   0   0   0   0   0   0   0   0   0   0   0\n",
            "    0   0   0   0   0   0   0   0   0   0]\n",
            " [  0   0   0   0   0   0   0   0   0   0   0   0   0   0   0   0   0   0\n",
            "    0   0   0   0   0   0   0   0   0   0]\n",
            " [  0   0   0   0   0   0   0   0   0   0   0   0   0   0   0   0   0   0\n",
            "    0   0   0   0   0   0   0   0   0   0]\n",
            " [  0   0   0   0   0   0   0   0   0   0   0   0   0   0   0   0   0   0\n",
            "    0   0   0   0   0   0   0   0   0   0]\n",
            " [  0   0   0   0   0   0   0   0   0   0   0   0   0   0   0   0   0   0\n",
            "    0   0   0   0   0   0   0   0   0   0]\n",
            " [  0   0   0   0   0   0   0   0   0   0   0   0   3  18  18  18 126 136\n",
            "  175  26 166 255 247 127   0   0   0   0]\n",
            " [  0   0   0   0   0   0   0   0  30  36  94 154 170 253 253 253 253 253\n",
            "  225 172 253 242 195  64   0   0   0   0]\n",
            " [  0   0   0   0   0   0   0  49 238 253 253 253 253 253 253 253 253 251\n",
            "   93  82  82  56  39   0   0   0   0   0]\n",
            " [  0   0   0   0   0   0   0  18 219 253 253 253 253 253 198 182 247 241\n",
            "    0   0   0   0   0   0   0   0   0   0]\n",
            " [  0   0   0   0   0   0   0   0  80 156 107 253 253 205  11   0  43 154\n",
            "    0   0   0   0   0   0   0   0   0   0]\n",
            " [  0   0   0   0   0   0   0   0   0  14   1 154 253  90   0   0   0   0\n",
            "    0   0   0   0   0   0   0   0   0   0]\n",
            " [  0   0   0   0   0   0   0   0   0   0   0 139 253 190   2   0   0   0\n",
            "    0   0   0   0   0   0   0   0   0   0]\n",
            " [  0   0   0   0   0   0   0   0   0   0   0  11 190 253  70   0   0   0\n",
            "    0   0   0   0   0   0   0   0   0   0]\n",
            " [  0   0   0   0   0   0   0   0   0   0   0   0  35 241 225 160 108   1\n",
            "    0   0   0   0   0   0   0   0   0   0]\n",
            " [  0   0   0   0   0   0   0   0   0   0   0   0   0  81 240 253 253 119\n",
            "   25   0   0   0   0   0   0   0   0   0]\n",
            " [  0   0   0   0   0   0   0   0   0   0   0   0   0   0  45 186 253 253\n",
            "  150  27   0   0   0   0   0   0   0   0]\n",
            " [  0   0   0   0   0   0   0   0   0   0   0   0   0   0   0  16  93 252\n",
            "  253 187   0   0   0   0   0   0   0   0]\n",
            " [  0   0   0   0   0   0   0   0   0   0   0   0   0   0   0   0   0 249\n",
            "  253 249  64   0   0   0   0   0   0   0]\n",
            " [  0   0   0   0   0   0   0   0   0   0   0   0   0   0  46 130 183 253\n",
            "  253 207   2   0   0   0   0   0   0   0]\n",
            " [  0   0   0   0   0   0   0   0   0   0   0   0  39 148 229 253 253 253\n",
            "  250 182   0   0   0   0   0   0   0   0]\n",
            " [  0   0   0   0   0   0   0   0   0   0  24 114 221 253 253 253 253 201\n",
            "   78   0   0   0   0   0   0   0   0   0]\n",
            " [  0   0   0   0   0   0   0   0  23  66 213 253 253 253 253 198  81   2\n",
            "    0   0   0   0   0   0   0   0   0   0]\n",
            " [  0   0   0   0   0   0  18 171 219 253 253 253 253 195  80   9   0   0\n",
            "    0   0   0   0   0   0   0   0   0   0]\n",
            " [  0   0   0   0  55 172 226 253 253 253 253 244 133  11   0   0   0   0\n",
            "    0   0   0   0   0   0   0   0   0   0]\n",
            " [  0   0   0   0 136 253 253 253 212 135 132  16   0   0   0   0   0   0\n",
            "    0   0   0   0   0   0   0   0   0   0]\n",
            " [  0   0   0   0   0   0   0   0   0   0   0   0   0   0   0   0   0   0\n",
            "    0   0   0   0   0   0   0   0   0   0]\n",
            " [  0   0   0   0   0   0   0   0   0   0   0   0   0   0   0   0   0   0\n",
            "    0   0   0   0   0   0   0   0   0   0]\n",
            " [  0   0   0   0   0   0   0   0   0   0   0   0   0   0   0   0   0   0\n",
            "    0   0   0   0   0   0   0   0   0   0]]\n"
          ],
          "name": "stdout"
        }
      ]
    },
    {
      "cell_type": "code",
      "metadata": {
        "id": "ed90a243"
      },
      "source": [
        "# normalize inputs from 0-255 to 0-1\n",
        "x_train = x_train / 255\n",
        "x_test = x_test/ 255"
      ],
      "id": "ed90a243",
      "execution_count": 9,
      "outputs": []
    },
    {
      "cell_type": "markdown",
      "metadata": {
        "id": "057f7e41"
      },
      "source": [
        "## After Normalization"
      ],
      "id": "057f7e41"
    },
    {
      "cell_type": "code",
      "metadata": {
        "colab": {
          "base_uri": "https://localhost:8080/"
        },
        "id": "b78aae65",
        "outputId": "3452073e-5e3e-40f2-e93d-3ed43ccd5ede"
      },
      "source": [
        "print( x_train[0]) ##  you can see all values are now Normalized"
      ],
      "id": "b78aae65",
      "execution_count": 10,
      "outputs": [
        {
          "output_type": "stream",
          "text": [
            "[[0.         0.         0.         0.         0.         0.\n",
            "  0.         0.         0.         0.         0.         0.\n",
            "  0.         0.         0.         0.         0.         0.\n",
            "  0.         0.         0.         0.         0.         0.\n",
            "  0.         0.         0.         0.        ]\n",
            " [0.         0.         0.         0.         0.         0.\n",
            "  0.         0.         0.         0.         0.         0.\n",
            "  0.         0.         0.         0.         0.         0.\n",
            "  0.         0.         0.         0.         0.         0.\n",
            "  0.         0.         0.         0.        ]\n",
            " [0.         0.         0.         0.         0.         0.\n",
            "  0.         0.         0.         0.         0.         0.\n",
            "  0.         0.         0.         0.         0.         0.\n",
            "  0.         0.         0.         0.         0.         0.\n",
            "  0.         0.         0.         0.        ]\n",
            " [0.         0.         0.         0.         0.         0.\n",
            "  0.         0.         0.         0.         0.         0.\n",
            "  0.         0.         0.         0.         0.         0.\n",
            "  0.         0.         0.         0.         0.         0.\n",
            "  0.         0.         0.         0.        ]\n",
            " [0.         0.         0.         0.         0.         0.\n",
            "  0.         0.         0.         0.         0.         0.\n",
            "  0.         0.         0.         0.         0.         0.\n",
            "  0.         0.         0.         0.         0.         0.\n",
            "  0.         0.         0.         0.        ]\n",
            " [0.         0.         0.         0.         0.         0.\n",
            "  0.         0.         0.         0.         0.         0.\n",
            "  0.01176471 0.07058824 0.07058824 0.07058824 0.49411765 0.53333333\n",
            "  0.68627451 0.10196078 0.65098039 1.         0.96862745 0.49803922\n",
            "  0.         0.         0.         0.        ]\n",
            " [0.         0.         0.         0.         0.         0.\n",
            "  0.         0.         0.11764706 0.14117647 0.36862745 0.60392157\n",
            "  0.66666667 0.99215686 0.99215686 0.99215686 0.99215686 0.99215686\n",
            "  0.88235294 0.6745098  0.99215686 0.94901961 0.76470588 0.25098039\n",
            "  0.         0.         0.         0.        ]\n",
            " [0.         0.         0.         0.         0.         0.\n",
            "  0.         0.19215686 0.93333333 0.99215686 0.99215686 0.99215686\n",
            "  0.99215686 0.99215686 0.99215686 0.99215686 0.99215686 0.98431373\n",
            "  0.36470588 0.32156863 0.32156863 0.21960784 0.15294118 0.\n",
            "  0.         0.         0.         0.        ]\n",
            " [0.         0.         0.         0.         0.         0.\n",
            "  0.         0.07058824 0.85882353 0.99215686 0.99215686 0.99215686\n",
            "  0.99215686 0.99215686 0.77647059 0.71372549 0.96862745 0.94509804\n",
            "  0.         0.         0.         0.         0.         0.\n",
            "  0.         0.         0.         0.        ]\n",
            " [0.         0.         0.         0.         0.         0.\n",
            "  0.         0.         0.31372549 0.61176471 0.41960784 0.99215686\n",
            "  0.99215686 0.80392157 0.04313725 0.         0.16862745 0.60392157\n",
            "  0.         0.         0.         0.         0.         0.\n",
            "  0.         0.         0.         0.        ]\n",
            " [0.         0.         0.         0.         0.         0.\n",
            "  0.         0.         0.         0.05490196 0.00392157 0.60392157\n",
            "  0.99215686 0.35294118 0.         0.         0.         0.\n",
            "  0.         0.         0.         0.         0.         0.\n",
            "  0.         0.         0.         0.        ]\n",
            " [0.         0.         0.         0.         0.         0.\n",
            "  0.         0.         0.         0.         0.         0.54509804\n",
            "  0.99215686 0.74509804 0.00784314 0.         0.         0.\n",
            "  0.         0.         0.         0.         0.         0.\n",
            "  0.         0.         0.         0.        ]\n",
            " [0.         0.         0.         0.         0.         0.\n",
            "  0.         0.         0.         0.         0.         0.04313725\n",
            "  0.74509804 0.99215686 0.2745098  0.         0.         0.\n",
            "  0.         0.         0.         0.         0.         0.\n",
            "  0.         0.         0.         0.        ]\n",
            " [0.         0.         0.         0.         0.         0.\n",
            "  0.         0.         0.         0.         0.         0.\n",
            "  0.1372549  0.94509804 0.88235294 0.62745098 0.42352941 0.00392157\n",
            "  0.         0.         0.         0.         0.         0.\n",
            "  0.         0.         0.         0.        ]\n",
            " [0.         0.         0.         0.         0.         0.\n",
            "  0.         0.         0.         0.         0.         0.\n",
            "  0.         0.31764706 0.94117647 0.99215686 0.99215686 0.46666667\n",
            "  0.09803922 0.         0.         0.         0.         0.\n",
            "  0.         0.         0.         0.        ]\n",
            " [0.         0.         0.         0.         0.         0.\n",
            "  0.         0.         0.         0.         0.         0.\n",
            "  0.         0.         0.17647059 0.72941176 0.99215686 0.99215686\n",
            "  0.58823529 0.10588235 0.         0.         0.         0.\n",
            "  0.         0.         0.         0.        ]\n",
            " [0.         0.         0.         0.         0.         0.\n",
            "  0.         0.         0.         0.         0.         0.\n",
            "  0.         0.         0.         0.0627451  0.36470588 0.98823529\n",
            "  0.99215686 0.73333333 0.         0.         0.         0.\n",
            "  0.         0.         0.         0.        ]\n",
            " [0.         0.         0.         0.         0.         0.\n",
            "  0.         0.         0.         0.         0.         0.\n",
            "  0.         0.         0.         0.         0.         0.97647059\n",
            "  0.99215686 0.97647059 0.25098039 0.         0.         0.\n",
            "  0.         0.         0.         0.        ]\n",
            " [0.         0.         0.         0.         0.         0.\n",
            "  0.         0.         0.         0.         0.         0.\n",
            "  0.         0.         0.18039216 0.50980392 0.71764706 0.99215686\n",
            "  0.99215686 0.81176471 0.00784314 0.         0.         0.\n",
            "  0.         0.         0.         0.        ]\n",
            " [0.         0.         0.         0.         0.         0.\n",
            "  0.         0.         0.         0.         0.         0.\n",
            "  0.15294118 0.58039216 0.89803922 0.99215686 0.99215686 0.99215686\n",
            "  0.98039216 0.71372549 0.         0.         0.         0.\n",
            "  0.         0.         0.         0.        ]\n",
            " [0.         0.         0.         0.         0.         0.\n",
            "  0.         0.         0.         0.         0.09411765 0.44705882\n",
            "  0.86666667 0.99215686 0.99215686 0.99215686 0.99215686 0.78823529\n",
            "  0.30588235 0.         0.         0.         0.         0.\n",
            "  0.         0.         0.         0.        ]\n",
            " [0.         0.         0.         0.         0.         0.\n",
            "  0.         0.         0.09019608 0.25882353 0.83529412 0.99215686\n",
            "  0.99215686 0.99215686 0.99215686 0.77647059 0.31764706 0.00784314\n",
            "  0.         0.         0.         0.         0.         0.\n",
            "  0.         0.         0.         0.        ]\n",
            " [0.         0.         0.         0.         0.         0.\n",
            "  0.07058824 0.67058824 0.85882353 0.99215686 0.99215686 0.99215686\n",
            "  0.99215686 0.76470588 0.31372549 0.03529412 0.         0.\n",
            "  0.         0.         0.         0.         0.         0.\n",
            "  0.         0.         0.         0.        ]\n",
            " [0.         0.         0.         0.         0.21568627 0.6745098\n",
            "  0.88627451 0.99215686 0.99215686 0.99215686 0.99215686 0.95686275\n",
            "  0.52156863 0.04313725 0.         0.         0.         0.\n",
            "  0.         0.         0.         0.         0.         0.\n",
            "  0.         0.         0.         0.        ]\n",
            " [0.         0.         0.         0.         0.53333333 0.99215686\n",
            "  0.99215686 0.99215686 0.83137255 0.52941176 0.51764706 0.0627451\n",
            "  0.         0.         0.         0.         0.         0.\n",
            "  0.         0.         0.         0.         0.         0.\n",
            "  0.         0.         0.         0.        ]\n",
            " [0.         0.         0.         0.         0.         0.\n",
            "  0.         0.         0.         0.         0.         0.\n",
            "  0.         0.         0.         0.         0.         0.\n",
            "  0.         0.         0.         0.         0.         0.\n",
            "  0.         0.         0.         0.        ]\n",
            " [0.         0.         0.         0.         0.         0.\n",
            "  0.         0.         0.         0.         0.         0.\n",
            "  0.         0.         0.         0.         0.         0.\n",
            "  0.         0.         0.         0.         0.         0.\n",
            "  0.         0.         0.         0.        ]\n",
            " [0.         0.         0.         0.         0.         0.\n",
            "  0.         0.         0.         0.         0.         0.\n",
            "  0.         0.         0.         0.         0.         0.\n",
            "  0.         0.         0.         0.         0.         0.\n",
            "  0.         0.         0.         0.        ]]\n"
          ],
          "name": "stdout"
        }
      ]
    },
    {
      "cell_type": "markdown",
      "metadata": {
        "id": "230879a0"
      },
      "source": [
        "## Resizing image to make it suitable for apply Convolution operation"
      ],
      "id": "230879a0"
    },
    {
      "cell_type": "code",
      "metadata": {
        "colab": {
          "base_uri": "https://localhost:8080/"
        },
        "id": "75c881ab",
        "outputId": "48b6f3bc-5452-4f19-d1c8-0397ee916452"
      },
      "source": [
        "# reshape to be [samples][width][height][channels]\n",
        "x_trainr = x_train.reshape((x_train.shape[0], 28, 28, 1)).astype('float32')\n",
        "x_testr = x_test.reshape((x_test.shape[0], 28, 28, 1)).astype('float32')\n",
        "\n",
        "print (\"Training Samples dimension : \", x_trainr.shape)\n",
        "print (\"Training Samples dimension : \" ,x_testr.shape)"
      ],
      "id": "75c881ab",
      "execution_count": 11,
      "outputs": [
        {
          "output_type": "stream",
          "text": [
            "Training Samples dimension :  (60000, 28, 28, 1)\n",
            "Training Samples dimension :  (10000, 28, 28, 1)\n"
          ],
          "name": "stdout"
        }
      ]
    },
    {
      "cell_type": "markdown",
      "metadata": {
        "id": "55bf669f"
      },
      "source": [
        "### One hot encoding of the class values from 0 to 9., transforming the vector of class integers into a binary matrix."
      ],
      "id": "55bf669f"
    },
    {
      "cell_type": "code",
      "metadata": {
        "id": "f481739e"
      },
      "source": [
        "# one hot encode outputs\n",
        "from keras.utils import np_utils\n",
        "y_train = np_utils.to_categorical(y_train)\n",
        "y_test = np_utils.to_categorical(y_test)\n",
        "num_classes = y_test.shape[1]"
      ],
      "id": "f481739e",
      "execution_count": 12,
      "outputs": []
    },
    {
      "cell_type": "markdown",
      "metadata": {
        "id": "b2caa551"
      },
      "source": [
        "# Creating a Deep Neural Network\n",
        "## Training on 60,000 samples of MNIST handwritten dataset"
      ],
      "id": "b2caa551"
    },
    {
      "cell_type": "code",
      "metadata": {
        "id": "918fd456"
      },
      "source": [
        "from keras.models import Sequential\n",
        "from keras.layers import Dense\n",
        "from keras.layers import Dropout\n",
        "from keras.layers import Flatten\n",
        "from keras.layers import Activation\n",
        "from keras.layers.convolutional import Conv2D\n",
        "from keras.layers.convolutional import MaxPooling2D"
      ],
      "id": "918fd456",
      "execution_count": 13,
      "outputs": []
    },
    {
      "cell_type": "code",
      "metadata": {
        "id": "91e7f480"
      },
      "source": [
        "def Cnn_model():\n",
        "    # create model\n",
        "    model = Sequential()\n",
        "    \n",
        "    ## 1st Convolution Layer with 30 feature maps of size 5×5.\n",
        "    model.add(Conv2D(30, (5, 5), input_shape=(28, 28, 1), activation='relu'))\n",
        "    ## only for first Convolution layer to mention input layer size \n",
        "    ## Activation function to make it non-linear, <0, remove, >0 \n",
        "    model.add(MaxPooling2D())## Maxpooling single maximum value of 2x2 patches\n",
        "    \n",
        "    ## 2nd Convolution Layer with 15 feature maps of size 3×3.\n",
        "    model.add(Conv2D(15, (3, 3), activation='relu'))## 2nd Convolution Layer\n",
        "    model.add(MaxPooling2D())## Maxpooling single maximum value of 2x2 patches\n",
        "    model.add(Dropout(0.2))## Dropout layer with a probability of 20%.\n",
        "    \n",
        "    ### before using fully connected layer, need to be flatten so that 2D to 1D\n",
        "    model.add(Flatten())\n",
        "\n",
        "    #### Fully Connected Layer #1 with 128 neurons and rectifier activation.\n",
        "    model.add(Dense(128, activation='relu'))\n",
        "    \n",
        "    #### Fully Connected Layer #2 with 50 neurons and rectifier activation\n",
        "    model.add(Dense(50, activation='relu'))\n",
        "    \n",
        "    #### Last Fully Connected Layer (Output layer) ,output must be equal to number of classes, 10 (0-9)\n",
        "    model.add(Dense(num_classes, activation='softmax'))### activation function is changed to softmax ( class probablites)\n",
        "    # Compile model\n",
        "    model.compile(loss='categorical_crossentropy', optimizer='adam', metrics=['accuracy'])\n",
        "    return model"
      ],
      "id": "91e7f480",
      "execution_count": 14,
      "outputs": []
    },
    {
      "cell_type": "code",
      "metadata": {
        "id": "9c6a412a"
      },
      "source": [
        "# build the model\n",
        "model = Cnn_model()"
      ],
      "id": "9c6a412a",
      "execution_count": 15,
      "outputs": []
    },
    {
      "cell_type": "code",
      "metadata": {
        "colab": {
          "base_uri": "https://localhost:8080/"
        },
        "id": "fb1fe0cb",
        "outputId": "107d3d88-f4cf-4358-e9b8-68e294ff9d38"
      },
      "source": [
        "print(\"Total Training Samples = \",len(x_trainr))"
      ],
      "id": "fb1fe0cb",
      "execution_count": 16,
      "outputs": [
        {
          "output_type": "stream",
          "text": [
            "Total Training Samples =  60000\n"
          ],
          "name": "stdout"
        }
      ]
    },
    {
      "cell_type": "code",
      "metadata": {
        "colab": {
          "base_uri": "https://localhost:8080/"
        },
        "id": "529327c5",
        "outputId": "283a7433-c41c-4eb9-d23e-4782c6f11154"
      },
      "source": [
        "model.summary()"
      ],
      "id": "529327c5",
      "execution_count": 17,
      "outputs": [
        {
          "output_type": "stream",
          "text": [
            "Model: \"sequential\"\n",
            "_________________________________________________________________\n",
            "Layer (type)                 Output Shape              Param #   \n",
            "=================================================================\n",
            "conv2d (Conv2D)              (None, 24, 24, 30)        780       \n",
            "_________________________________________________________________\n",
            "max_pooling2d (MaxPooling2D) (None, 12, 12, 30)        0         \n",
            "_________________________________________________________________\n",
            "conv2d_1 (Conv2D)            (None, 10, 10, 15)        4065      \n",
            "_________________________________________________________________\n",
            "max_pooling2d_1 (MaxPooling2 (None, 5, 5, 15)          0         \n",
            "_________________________________________________________________\n",
            "dropout (Dropout)            (None, 5, 5, 15)          0         \n",
            "_________________________________________________________________\n",
            "flatten (Flatten)            (None, 375)               0         \n",
            "_________________________________________________________________\n",
            "dense (Dense)                (None, 128)               48128     \n",
            "_________________________________________________________________\n",
            "dense_1 (Dense)              (None, 50)                6450      \n",
            "_________________________________________________________________\n",
            "dense_2 (Dense)              (None, 10)                510       \n",
            "=================================================================\n",
            "Total params: 59,933\n",
            "Trainable params: 59,933\n",
            "Non-trainable params: 0\n",
            "_________________________________________________________________\n"
          ],
          "name": "stdout"
        }
      ]
    },
    {
      "cell_type": "code",
      "metadata": {
        "colab": {
          "base_uri": "https://localhost:8080/"
        },
        "id": "fb1209b9",
        "outputId": "d8097b70-ad71-40cc-bfb2-0427edc62c5f"
      },
      "source": [
        "# Fit the model ## training my model\n",
        "model.fit(x_trainr, y_train, validation_data=(x_testr, y_test), epochs=10,validation_split=0.03,batch_size=20, verbose=2)"
      ],
      "id": "fb1209b9",
      "execution_count": 18,
      "outputs": [
        {
          "output_type": "stream",
          "text": [
            "Epoch 1/10\n",
            "2910/2910 - 34s - loss: 0.1711 - accuracy: 0.9471 - val_loss: 0.0477 - val_accuracy: 0.9894\n",
            "Epoch 2/10\n",
            "2910/2910 - 32s - loss: 0.0670 - accuracy: 0.9786 - val_loss: 0.0405 - val_accuracy: 0.9911\n",
            "Epoch 3/10\n",
            "2910/2910 - 33s - loss: 0.0512 - accuracy: 0.9842 - val_loss: 0.0494 - val_accuracy: 0.9900\n",
            "Epoch 4/10\n",
            "2910/2910 - 32s - loss: 0.0421 - accuracy: 0.9865 - val_loss: 0.0272 - val_accuracy: 0.9950\n",
            "Epoch 5/10\n",
            "2910/2910 - 31s - loss: 0.0365 - accuracy: 0.9879 - val_loss: 0.0352 - val_accuracy: 0.9928\n",
            "Epoch 6/10\n",
            "2910/2910 - 32s - loss: 0.0326 - accuracy: 0.9898 - val_loss: 0.0329 - val_accuracy: 0.9950\n",
            "Epoch 7/10\n",
            "2910/2910 - 32s - loss: 0.0290 - accuracy: 0.9907 - val_loss: 0.0341 - val_accuracy: 0.9944\n",
            "Epoch 8/10\n",
            "2910/2910 - 31s - loss: 0.0269 - accuracy: 0.9910 - val_loss: 0.0500 - val_accuracy: 0.9906\n",
            "Epoch 9/10\n",
            "2910/2910 - 33s - loss: 0.0254 - accuracy: 0.9916 - val_loss: 0.0295 - val_accuracy: 0.9956\n",
            "Epoch 10/10\n",
            "2910/2910 - 32s - loss: 0.0224 - accuracy: 0.9925 - val_loss: 0.0368 - val_accuracy: 0.9939\n"
          ],
          "name": "stdout"
        },
        {
          "output_type": "execute_result",
          "data": {
            "text/plain": [
              "<tensorflow.python.keras.callbacks.History at 0x7f62e3ffa850>"
            ]
          },
          "metadata": {
            "tags": []
          },
          "execution_count": 18
        }
      ]
    },
    {
      "cell_type": "code",
      "metadata": {
        "colab": {
          "base_uri": "https://localhost:8080/"
        },
        "id": "2afe9e13",
        "outputId": "0343e77e-c241-40bb-d82f-93b478e38813"
      },
      "source": [
        "### Evaluting on testing data set MNIST\n",
        "test_loss,test_acc=model.evaluate(x_testr,y_test)\n",
        "print (\"Test Loss on 10.000 test samples \" ,test_loss)\n",
        "print (\"Validation Accuracy on 10.000 test samples  \" ,test_acc)"
      ],
      "id": "2afe9e13",
      "execution_count": 19,
      "outputs": [
        {
          "output_type": "stream",
          "text": [
            "313/313 [==============================] - 2s 6ms/step - loss: 0.0278 - accuracy: 0.9923\n",
            "Test Loss on 10.000 test samples  0.027810772880911827\n",
            "Validation Accuracy on 10.000 test samples   0.9922999739646912\n"
          ],
          "name": "stdout"
        }
      ]
    },
    {
      "cell_type": "code",
      "metadata": {
        "colab": {
          "base_uri": "https://localhost:8080/"
        },
        "id": "d0d1ff0e",
        "outputId": "0d76ba5a-7311-4803-a72d-c65b487b5ef4"
      },
      "source": [
        "# Final evaluation of the model\n",
        "scores = model.evaluate(x_testr, y_test, verbose=0)\n",
        "print(\"Large CNN Error: %.2f%%\" % (100-scores[1]*100))"
      ],
      "id": "d0d1ff0e",
      "execution_count": 20,
      "outputs": [
        {
          "output_type": "stream",
          "text": [
            "Large CNN Error: 0.77%\n"
          ],
          "name": "stdout"
        }
      ]
    },
    {
      "cell_type": "code",
      "metadata": {
        "id": "8e9e4c2f"
      },
      "source": [
        "# predictions = new_model.predict([x_test]) ## there is specialized method for efficeintly saving your model   \n",
        "predicions =model.predict([x_testr])"
      ],
      "id": "8e9e4c2f",
      "execution_count": 21,
      "outputs": []
    },
    {
      "cell_type": "code",
      "metadata": {
        "colab": {
          "base_uri": "https://localhost:8080/"
        },
        "id": "fad38d84",
        "outputId": "0e91df84-d380-4d4f-8b7b-7ec61ffeedc2"
      },
      "source": [
        "print(predicions)## actually these predictions are based on one hot encodeing so these are only arrays , containing softmax probilites"
      ],
      "id": "fad38d84",
      "execution_count": 22,
      "outputs": [
        {
          "output_type": "stream",
          "text": [
            "[[3.0174976e-14 2.4411662e-10 3.2778960e-09 ... 1.0000000e+00\n",
            "  7.4393795e-13 2.6903439e-09]\n",
            " [2.1704727e-10 6.3521801e-09 1.0000000e+00 ... 5.2495019e-10\n",
            "  8.2420444e-09 3.5623627e-15]\n",
            " [1.1618850e-09 9.9999905e-01 9.1465537e-09 ... 9.0868076e-07\n",
            "  5.8137708e-09 1.5452994e-08]\n",
            " ...\n",
            " [5.8382959e-13 6.1779667e-07 2.2812253e-10 ... 9.5675404e-08\n",
            "  1.9588884e-09 3.6858587e-08]\n",
            " [2.8997896e-11 2.2349509e-13 9.1190682e-18 ... 1.5819416e-14\n",
            "  8.3206608e-08 2.8469210e-11]\n",
            " [6.4905412e-06 4.3864856e-07 3.0767961e-08 ... 7.9826291e-11\n",
            "  1.1091539e-06 1.1222315e-08]]\n"
          ],
          "name": "stdout"
        }
      ]
    },
    {
      "cell_type": "code",
      "metadata": {
        "colab": {
          "base_uri": "https://localhost:8080/"
        },
        "id": "b1ea1ab5",
        "outputId": "7be4b320-4dcc-4b30-8f48-06817e63bf39"
      },
      "source": [
        "## in order to understand , convert the predictions from one hot encoding , we need to use numpy for that\n",
        "import numpy as np\n",
        "\n",
        "print (np.argmax(predicions[0]))### so acuzlly argmax will return the maximum value index and find the value of it "
      ],
      "id": "b1ea1ab5",
      "execution_count": 23,
      "outputs": [
        {
          "output_type": "stream",
          "text": [
            "7\n"
          ],
          "name": "stdout"
        }
      ]
    },
    {
      "cell_type": "code",
      "metadata": {
        "colab": {
          "base_uri": "https://localhost:8080/",
          "height": 282
        },
        "id": "7ae3f67f",
        "outputId": "ad6fa375-7f30-481e-edc5-708c30c87333"
      },
      "source": [
        "## now to check that answer is true or not\n",
        "import matplotlib.pyplot as plt\n",
        "\n",
        "plt.imshow(x_test[0])"
      ],
      "id": "7ae3f67f",
      "execution_count": 36,
      "outputs": [
        {
          "output_type": "execute_result",
          "data": {
            "text/plain": [
              "<matplotlib.image.AxesImage at 0x7f62d6881250>"
            ]
          },
          "metadata": {
            "tags": []
          },
          "execution_count": 36
        },
        {
          "output_type": "display_data",
          "data": {
            "image/png": "[encoded data removed]",
            "text/plain": [
              "<Figure size 432x288 with 1 Axes>"
            ]
          },
          "metadata": {
            "tags": [],
            "needs_background": "light"
          }
        }
      ]
    },
    {
      "cell_type": "code",
      "metadata": {
        "id": "b0f71f3e"
      },
      "source": [
        "import cv2"
      ],
      "id": "b0f71f3e",
      "execution_count": 37,
      "outputs": []
    },
    {
      "cell_type": "code",
      "metadata": {
        "id": "c60f56fc"
      },
      "source": [
        "img =cv2.imread('/content/test_images/8.png')"
      ],
      "id": "c60f56fc",
      "execution_count": 49,
      "outputs": []
    },
    {
      "cell_type": "code",
      "metadata": {
        "colab": {
          "base_uri": "https://localhost:8080/",
          "height": 286
        },
        "id": "91d32a60",
        "outputId": "b6805770-54db-4cb3-9dc0-e971a661e597"
      },
      "source": [
        "plt.imshow(img)"
      ],
      "id": "91d32a60",
      "execution_count": 50,
      "outputs": [
        {
          "output_type": "execute_result",
          "data": {
            "text/plain": [
              "<matplotlib.image.AxesImage at 0x7f62d679bed0>"
            ]
          },
          "metadata": {
            "tags": []
          },
          "execution_count": 50
        },
        {
          "output_type": "display_data",
          "data": {
            "image/png": "[encoded data removed]",
            "text/plain": [
              "<Figure size 432x288 with 1 Axes>"
            ]
          },
          "metadata": {
            "tags": [],
            "needs_background": "light"
          }
        }
      ]
    },
    {
      "cell_type": "code",
      "metadata": {
        "colab": {
          "base_uri": "https://localhost:8080/"
        },
        "id": "301f74f2",
        "outputId": "2007fb47-c811-4673-ba93-09397898bb03"
      },
      "source": [
        "img.shape"
      ],
      "id": "301f74f2",
      "execution_count": 51,
      "outputs": [
        {
          "output_type": "execute_result",
          "data": {
            "text/plain": [
              "(864, 608, 3)"
            ]
          },
          "metadata": {
            "tags": []
          },
          "execution_count": 51
        }
      ]
    },
    {
      "cell_type": "code",
      "metadata": {
        "id": "d8081a26"
      },
      "source": [
        "gray =cv2.cvtColor(img,cv2.COLOR_BGR2GRAY)"
      ],
      "id": "d8081a26",
      "execution_count": 52,
      "outputs": []
    },
    {
      "cell_type": "code",
      "metadata": {
        "colab": {
          "base_uri": "https://localhost:8080/"
        },
        "id": "d7b3f4a4",
        "outputId": "6f167bfd-d3c9-4aed-a81b-de757e5fafa2"
      },
      "source": [
        "gray.shape"
      ],
      "id": "d7b3f4a4",
      "execution_count": 53,
      "outputs": [
        {
          "output_type": "execute_result",
          "data": {
            "text/plain": [
              "(864, 608)"
            ]
          },
          "metadata": {
            "tags": []
          },
          "execution_count": 53
        }
      ]
    },
    {
      "cell_type": "code",
      "metadata": {
        "id": "2ac58d26"
      },
      "source": [
        "resized =cv2.resize(gray,(28,28),interpolation =cv2.INTER_AREA)\n"
      ],
      "id": "2ac58d26",
      "execution_count": 54,
      "outputs": []
    },
    {
      "cell_type": "code",
      "metadata": {
        "colab": {
          "base_uri": "https://localhost:8080/"
        },
        "id": "ff0c67bd",
        "outputId": "179876ed-c305-4f32-c0f9-966b5736d24c"
      },
      "source": [
        "resized.shape"
      ],
      "id": "ff0c67bd",
      "execution_count": 55,
      "outputs": [
        {
          "output_type": "execute_result",
          "data": {
            "text/plain": [
              "(28, 28)"
            ]
          },
          "metadata": {
            "tags": []
          },
          "execution_count": 55
        }
      ]
    },
    {
      "cell_type": "code",
      "metadata": {
        "id": "5b10489d"
      },
      "source": [
        "new_img =resized / 255"
      ],
      "id": "5b10489d",
      "execution_count": 56,
      "outputs": []
    },
    {
      "cell_type": "code",
      "metadata": {
        "id": "329752a2"
      },
      "source": [
        "new_img= np.array(new_img).reshape(-1,28,28,1)"
      ],
      "id": "329752a2",
      "execution_count": 57,
      "outputs": []
    },
    {
      "cell_type": "code",
      "metadata": {
        "id": "bf8abe24"
      },
      "source": [
        "predicions =model.predict(new_img)"
      ],
      "id": "bf8abe24",
      "execution_count": 58,
      "outputs": []
    },
    {
      "cell_type": "code",
      "metadata": {
        "colab": {
          "base_uri": "https://localhost:8080/"
        },
        "id": "5d2c94f1",
        "outputId": "934dd48e-e7e0-4633-997d-8886221c5079"
      },
      "source": [
        "print (np.argmax(predicions))"
      ],
      "id": "5d2c94f1",
      "execution_count": 59,
      "outputs": [
        {
          "output_type": "stream",
          "text": [
            "8\n"
          ],
          "name": "stdout"
        }
      ]
    }
  ]
}